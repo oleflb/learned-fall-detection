{
 "cells": [
  {
   "cell_type": "code",
   "execution_count": null,
   "metadata": {},
   "outputs": [],
   "source": [
    "import polars as pl\n",
    "import polars.selectors as ps\n",
    "import plotly.graph_objects as go\n",
    "import plotly.express as px\n",
    "\n",
    "from dataframe import load\n",
    "\n",
    "dataframe = load(\"data.parquet\").with_columns(\n",
    "    is_fallen=pl.col(\"Control.main_outputs.robot_orientation.pitch\").abs() > 1.0\n",
    ")"
   ]
  },
  {
   "cell_type": "code",
   "execution_count": null,
   "metadata": {},
   "outputs": [],
   "source": [
    "robot_identifier = \"10.1.24.32\"\n",
    "\n",
    "px.scatter(\n",
    "    dataframe.filter(pl.col(\"robot_identifier\") == robot_identifier),\n",
    "    x=\"time\",\n",
    "    y=\"Control.main_outputs.robot_orientation.pitch\",\n",
    "    # color=\"is_fallen\",\n",
    "    color = \"Control.main_outputs.fall_state\",\n",
    ")"
   ]
  },
  {
   "cell_type": "code",
   "execution_count": null,
   "metadata": {},
   "outputs": [],
   "source": [
    "from sklearn.neighbors import LocalOutlierFactor\n",
    "\n",
    "selector = ps.contains(\"robot_orientation\")\n",
    "df = dataframe.drop_nulls(selector)\n",
    "lof = LocalOutlierFactor(n_neighbors=200)\n",
    "lof_value = lof.fit_predict(df.select(selector))\n",
    "df = df.with_columns(lof=pl.Series(\"lof\", lof_value))"
   ]
  },
  {
   "cell_type": "code",
   "execution_count": null,
   "metadata": {},
   "outputs": [],
   "source": [
    "robot_identifier = \"10.1.24.32\"\n",
    "\n",
    "px.scatter(\n",
    "    df.filter(pl.col(\"robot_identifier\") == robot_identifier),\n",
    "    x=\"time\",\n",
    "    y=\"Control.main_outputs.robot_orientation.pitch\",\n",
    "    # color=\"is_fallen\",\n",
    "    color = \"lof\",\n",
    ")"
   ]
  },
  {
   "cell_type": "code",
   "execution_count": null,
   "metadata": {},
   "outputs": [],
   "source": [
    "df = dataframe\n",
    "x = pl.col(\"Control.main_outputs.zero_moment_point.x\")\n",
    "y = pl.col(\"Control.main_outputs.zero_moment_point.y\")\n",
    "df = df.with_columns(\n",
    "    (x ** 2 + y ** 2).sqrt().alias(\"distance\"),\n",
    ")\n",
    "px.scatter(\n",
    "    df.filter(pl.col(\"robot_identifier\") == robot_identifier),\n",
    "    x=\"time\",\n",
    "    y=\"distance\",\n",
    "    color=\"is_fallen\",\n",
    "    # color = \"Control.main_outputs.fall_state\",\n",
    ")"
   ]
  }
 ],
 "metadata": {
  "kernelspec": {
   "display_name": ".venv",
   "language": "python",
   "name": "python3"
  },
  "language_info": {
   "codemirror_mode": {
    "name": "ipython",
    "version": 3
   },
   "file_extension": ".py",
   "mimetype": "text/x-python",
   "name": "python",
   "nbconvert_exporter": "python",
   "pygments_lexer": "ipython3",
   "version": "3.13.2"
  }
 },
 "nbformat": 4,
 "nbformat_minor": 2
}
